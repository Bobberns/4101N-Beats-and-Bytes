{
 "cells": [
  {
   "cell_type": "markdown",
   "id": "7249eb75",
   "metadata": {},
   "source": [
    "###### <center>**A Thesis Project Implementation By Jonas Juan C. Sayson & Fabiola C. Villanueva**</center> \n",
    "\n",
    "### <center>**\"Model and Forecasting Genre Popularity in Spotify Music Through Audio Feature Analysis Using XGBoost and ARIMA Time Series Modeling\"**</center>\n",
    "\n",
    "---"
   ]
  }
 ],
 "metadata": {
  "language_info": {
   "name": "python"
  }
 },
 "nbformat": 4,
 "nbformat_minor": 5
}
